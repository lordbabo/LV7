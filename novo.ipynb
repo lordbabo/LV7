import pandas as pd
import numpy as np
from scipy.stats import shapiro, levene, f_oneway
from statsmodels.stats.multicomp import pairwise_tukeyhsd
import matplotlib.pyplot as plt
import seaborn as sns

# Učitavanje podataka
data = pd.read_csv('glass.csv')  # Zamijenite s točnom putanjom do CSV datoteke

# 3.1 Provjera pretpostavki ANOVA analize

# (a) Normalnost podataka - Shapiro-Wilk test
groups = [data[data['Type of glass'] == g]['RI'] for g in sorted(data['Type of glass'].unique())]
shapiro_results = {g: shapiro(group) for g, group in zip(sorted(data['Type of glass'].unique()), groups)}

print("\nShapiro-Wilk Test (Normality):")
for g, result in shapiro_results.items():
    print(f"Glass Type {g}: W-statistic = {result.statistic:.4f}, p-value = {result.pvalue:.4f}")

# (b) Homoscedastičnost - Leveneov test
levene_stat, levene_p = levene(*groups)
print(f"\nLevene Test (Homoscedasticity): W-statistic = {levene_stat:.4f}, p-value = {levene_p:.4f}")

# (c) Ako pretpostavke nisu zadovoljene - Transformacija podataka
if any(result.pvalue < 0.05 for result in shapiro_results.values()) or levene_p < 0.05:
    print("\nPretpostavke nisu zadovoljene. Koristit ćemo log-transformaciju za 'RI'.")
    data['RI_log'] = np.log(data['RI'])
    groups = [data[data['Type of glass'] == g]['RI_log'] for g in sorted(data['Type of glass'].unique())]
else:
    print("\nPretpostavke su zadovoljene. Nema potrebe za transformacijom.")

# 4. Provođenje ANOVA analize

# (a) Jednosmjerna ANOVA analiza
f_stat, p_value = f_oneway(*groups)
print(f"\nJednosmjerna ANOVA: F-statistic = {f_stat:.4f}, p-value = {p_value:.4f}")

# (b) Post hoc analiza - Tukey HSD test (ako su razlike značajne)
if p_value < 0.05:
    print("\nRazlike među grupama su statistički značajne. Provođenje Tukey HSD testa.")
    tukey = pairwise_tukeyhsd(endog=data['RI'], groups=data['Type of glass'], alpha=0.05)
    print(tukey)

# 5. Analiza rezultata

# (a) Vizualizacija rezultata
# Boxplot
plt.figure(figsize=(10, 6))
sns.boxplot(x='Type of glass', y='RI', data=data)
plt.title('Boxplot of RI by Type of Glass')
plt.xlabel('Type of Glass')
plt.ylabel('Refractive Index (RI)')
plt.show()

# Bar chart s povjerenjem intervalima
group_means = data.groupby('Type of glass')['RI'].mean()
group_sems = data.groupby('Type of glass')['RI'].sem()  # Standard error
plt.figure(figsize=(10, 6))
plt.bar(group_means.index, group_means, yerr=group_sems, capsize=5, color='skyblue')
plt.title('Bar Chart of RI by Type of Glass with Confidence Intervals')
plt.xlabel('Type of Glass')
plt.ylabel('Mean Refractive Index (RI)')
plt.show()